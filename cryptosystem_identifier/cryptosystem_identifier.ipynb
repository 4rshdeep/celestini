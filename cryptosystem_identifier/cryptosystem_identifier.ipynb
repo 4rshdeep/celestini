{
 "cells": [
  {
   "cell_type": "code",
   "execution_count": 2,
   "metadata": {},
   "outputs": [],
   "source": [
    "import tensorflow as tf\n",
    "import numpy as np\n",
    "from sklearn import datasets\n",
    "from sklearn.model_selection import train_test_split\n",
    "import collections\n",
    "\n",
    "import matplotlib.pyplot as plt\n",
    "%matplotlib inline"
   ]
  },
  {
   "cell_type": "code",
   "execution_count": 3,
   "metadata": {},
   "outputs": [],
   "source": [
    "import encrypt\n",
    "import re\n",
    "import seaborn as sns\n",
    "sns.set(color_codes=True)"
   ]
  },
  {
   "cell_type": "code",
   "execution_count": 4,
   "metadata": {},
   "outputs": [],
   "source": [
    "def getFrequencyOfText(inputText):\n",
    "    d = collections.Counter(inputText)\n",
    "    d.pop(' ', -1) # remove space\n",
    "    b = sorted(list(d.values()), reverse=True)\n",
    "    n = sum(b)+0.0\n",
    "    b.extend([0] * (26-len(b)))\n",
    "    b = np.array(b, dtype=float)\n",
    "    b = 100*(b/n)\n",
    "    return b"
   ]
  },
  {
   "cell_type": "code",
   "execution_count": 5,
   "metadata": {},
   "outputs": [],
   "source": [
    "simple_sub = open(\"./data_gen/data/train/simple_sub_long.txt\").read().splitlines()\n",
    "vigenere = open(\"./data_gen/data/train/vig_long.txt\").read().splitlines()"
   ]
  },
  {
   "cell_type": "code",
   "execution_count": 6,
   "metadata": {},
   "outputs": [],
   "source": [
    "N = 2000\n",
    "M = 26 # Number of features\n",
    "simple_sub = simple_sub[:N]\n",
    "vigenere = vigenere [:N]"
   ]
  },
  {
   "cell_type": "code",
   "execution_count": 7,
   "metadata": {
    "scrolled": false
   },
   "outputs": [],
   "source": [
    "plain_text = \"IN CRYPTOGRAPHY A SUBSTITUTION CIPHER IS A METHOD OF ENCRYPTING BY WHICH UNITS OFPLAINTEXT ARE REPLACED WITH CIPHERTEXT ACCORDING TO A FIXED SYSTEM THE UNITSMAY BE SINGLE LETTERS THE MOST COMMONPAIRS OF LETTERS TRIPLETS OF LETTERS MIXTURES OF THE ABOVE AND SO FORTHTHE RECEIVER DECIPHERS THE TEXT BY PERFORMING THE INVERSE SUBSTITUTION\"\n",
    "key = \"VIGENERE\"\n",
    "vigenere_text = encrypt.vigenere(key, plain_text)\n",
    "key = \"THECOWSGMINFLDABJKPQRUVXYZ\"\n",
    "simple_subs_text = encrypt.simple_subs(key, plain_text)"
   ]
  },
  {
   "cell_type": "code",
   "execution_count": 8,
   "metadata": {},
   "outputs": [],
   "source": [
    "p = getFrequencyOfText(plain_text)\n",
    "v = getFrequencyOfText(vigenere_text)\n",
    "s = getFrequencyOfText(simple_subs_text)"
   ]
  },
  {
   "cell_type": "code",
   "execution_count": 9,
   "metadata": {
    "scrolled": true
   },
   "outputs": [
    {
     "data": {
      "text/plain": [
       "<matplotlib.axes._subplots.AxesSubplot at 0x7fd1dc3d36d8>"
      ]
     },
     "execution_count": 9,
     "metadata": {},
     "output_type": "execute_result"
    },
    {
     "data": {
      "image/png": "[encoded data removed]",
      "text/plain": [
       "<matplotlib.figure.Figure at 0x7fd1dbcd1048>"
      ]
     },
     "metadata": {},
     "output_type": "display_data"
    }
   ],
   "source": [
    "sns.kdeplot(p, label = \"plain\")\n",
    "sns.kdeplot(v, label=\"vigenere\")\n",
    "sns.kdeplot(s, label=\"simple subs\")"
   ]
  },
  {
   "cell_type": "markdown",
   "metadata": {},
   "source": [
    "* Plain text distribution is completely hidden by vigenere which is quite obvious due to the choice of the features used"
   ]
  },
  {
   "cell_type": "code",
   "execution_count": 10,
   "metadata": {},
   "outputs": [],
   "source": [
    "def get_training_data():\n",
    "    \"\"\" Returns \n",
    "        x -> 2000, 27\n",
    "        y -> 2000, 1\n",
    "        0 for vigenere and 1 for simple subs\n",
    "    \"\"\" \n",
    "    xs = np.ones((int(N/2), M+1))\n",
    "    xv = np.ones((int(N/2), M+1))\n",
    "    for i in range(int(N/2)):\n",
    "        s = getFrequencyOfText(simple_sub[i])\n",
    "        v = getFrequencyOfText(vigenere[i])\n",
    "        \n",
    "        xs[i, 1:] = s\n",
    "        xv[i, 1:] = v\n",
    "    \n",
    "    x = np.vstack((xv, xs))\n",
    "    \n",
    "    target = [0]*1000 + [1]*1000\n",
    "    num_labels = len(np.unique(target))\n",
    "    y = np.eye(num_labels)[target]\n",
    "    \n",
    "    return x, y        "
   ]
  },
  {
   "cell_type": "code",
   "execution_count": 11,
   "metadata": {},
   "outputs": [],
   "source": [
    "RANDOM_SEED = 42\n",
    "tf.set_random_seed(RANDOM_SEED)\n",
    "\n",
    "# NOTE: In order to make the code simple, we rewrite x * W_1 + b_1 = x' * W_1'\n",
    "# where x' = [x | 1] and W_1' is the matrix W_1 appended with a new row with elements b_1's.\n",
    "# Similarly, for h * W_2 + b_2\n",
    "def init_weights(shape):\n",
    "    \"\"\" Weight initialization \"\"\"\n",
    "    weights = tf.random_normal(shape, stddev=0.1)\n",
    "    return tf.Variable(weights)\n",
    "\n",
    "def forwardprop(X, w_1, w_2):\n",
    "    \"\"\"\n",
    "    Forward-propagation.\n",
    "    IMPORTANT: yhat is not softmax since TensorFlow's softmax_cross_entropy_with_logits() does that internally.\n",
    "    \"\"\"\n",
    "    h    = tf.nn.sigmoid(tf.matmul(X, w_1))  # The \\sigma function\n",
    "    yhat = tf.matmul(h, w_2)  # The \\varphi function\n",
    "    return yhat"
   ]
  },
  {
   "cell_type": "code",
   "execution_count": 12,
   "metadata": {},
   "outputs": [],
   "source": [
    "all_X, all_Y = get_training_data()"
   ]
  },
  {
   "cell_type": "code",
   "execution_count": 13,
   "metadata": {},
   "outputs": [
    {
     "name": "stdout",
     "output_type": "stream",
     "text": [
      "WARNING:tensorflow:From <ipython-input-13-f163ab908ce9>:21: softmax_cross_entropy_with_logits (from tensorflow.python.ops.nn_ops) is deprecated and will be removed in a future version.\n",
      "Instructions for updating:\n",
      "\n",
      "Future major versions of TensorFlow will allow gradients to flow\n",
      "into the labels input on backprop by default.\n",
      "\n",
      "See tf.nn.softmax_cross_entropy_with_logits_v2.\n",
      "\n",
      "Epoch = 1, train accuracy = 99.55%, test accuracy = 99.70%\n",
      "Epoch = 2, train accuracy = 99.63%, test accuracy = 99.70%\n",
      "Epoch = 3, train accuracy = 99.48%, test accuracy = 99.85%\n",
      "Epoch = 4, train accuracy = 99.48%, test accuracy = 99.85%\n",
      "Epoch = 5, train accuracy = 99.48%, test accuracy = 99.85%\n",
      "Epoch = 6, train accuracy = 99.48%, test accuracy = 99.85%\n",
      "Epoch = 7, train accuracy = 99.48%, test accuracy = 99.85%\n",
      "Epoch = 8, train accuracy = 99.48%, test accuracy = 99.85%\n",
      "Epoch = 9, train accuracy = 99.48%, test accuracy = 99.85%\n",
      "Epoch = 10, train accuracy = 99.48%, test accuracy = 99.85%\n"
     ]
    }
   ],
   "source": [
    "train_X, test_X, train_y, test_y = train_test_split(all_X, all_Y, test_size=0.33, random_state=RANDOM_SEED)\n",
    "\n",
    "# Layer's sizes\n",
    "x_size = train_X.shape[1]   # Number of input nodes: 26 features and 1 bias\n",
    "h_size = 256                # Number of hidden nodes\n",
    "y_size = train_y.shape[1]   # Number of outcomes 2\n",
    "\n",
    "# Symbols\n",
    "X = tf.placeholder(\"float\", shape=[None, x_size])\n",
    "y = tf.placeholder(\"float\", shape=[None, y_size])\n",
    "\n",
    "# Weight initializations\n",
    "w_1 = init_weights((x_size, h_size))\n",
    "w_2 = init_weights((h_size, y_size))\n",
    "\n",
    "# Forward propagation\n",
    "yhat    = forwardprop(X, w_1, w_2)\n",
    "predict = tf.argmax(yhat, axis=1)\n",
    "\n",
    "# Backward propagation\n",
    "cost    = tf.reduce_mean(tf.nn.softmax_cross_entropy_with_logits(labels=y, logits=yhat))\n",
    "updates = tf.train.AdamOptimizer().minimize(cost)\n",
    "\n",
    "# Run SGD\n",
    "sess = tf.Session()\n",
    "init = tf.global_variables_initializer()\n",
    "sess.run(init)\n",
    "\n",
    "for epoch in range(10):\n",
    "    # Train with each example\n",
    "    for i in range(len(train_X)):\n",
    "        sess.run(updates, feed_dict={X: train_X[i: i + 1], y: train_y[i: i + 1]})\n",
    "    train_accuracy = np.mean(np.argmax(train_y, axis=1) ==\n",
    "                             sess.run(predict, feed_dict={X: train_X, y: train_y}))\n",
    "    test_accuracy  = np.mean(np.argmax(test_y, axis=1) ==\n",
    "                             sess.run(predict, feed_dict={X: test_X, y: test_y}))\n",
    "    print(\"Epoch = %d, train accuracy = %.2f%%, test accuracy = %.2f%%\"\n",
    "          % (epoch + 1, 100. * train_accuracy, 100. * test_accuracy))\n"
   ]
  },
  {
   "cell_type": "markdown",
   "metadata": {},
   "source": [
    "### Testing on the test set given "
   ]
  },
  {
   "cell_type": "code",
   "execution_count": 14,
   "metadata": {},
   "outputs": [],
   "source": [
    "vig = open(\"./data_gen/data/test/vig.txt\").read().splitlines()\n",
    "ss = open(\"./data_gen/data/test/simple_sub.txt\").read().splitlines()"
   ]
  },
  {
   "cell_type": "code",
   "execution_count": 15,
   "metadata": {},
   "outputs": [],
   "source": [
    "res = []\n",
    "for line in vig:\n",
    "    x = np.ones((1, 27))\n",
    "    x[:, 1:] = getFrequencyOfText(line).reshape(1, -1)\n",
    "    out = sess.run(predict, feed_dict={ X:x })\n",
    "    res += [out]"
   ]
  },
  {
   "cell_type": "code",
   "execution_count": 16,
   "metadata": {},
   "outputs": [
    {
     "data": {
      "text/plain": [
       "[array([0]),\n",
       " array([0]),\n",
       " array([0]),\n",
       " array([0]),\n",
       " array([0]),\n",
       " array([0]),\n",
       " array([0]),\n",
       " array([0]),\n",
       " array([0]),\n",
       " array([0]),\n",
       " array([0]),\n",
       " array([0])]"
      ]
     },
     "execution_count": 16,
     "metadata": {},
     "output_type": "execute_result"
    }
   ],
   "source": [
    "res"
   ]
  },
  {
   "cell_type": "code",
   "execution_count": 17,
   "metadata": {},
   "outputs": [],
   "source": [
    "res = []\n",
    "for line in ss:\n",
    "    x = np.ones((1, 27))\n",
    "    x[:, 1:] = getFrequencyOfText(line).reshape(1, -1)\n",
    "    out = sess.run(predict, feed_dict={ X:x })\n",
    "    res += [out]"
   ]
  },
  {
   "cell_type": "code",
   "execution_count": 18,
   "metadata": {},
   "outputs": [
    {
     "data": {
      "text/plain": [
       "[array([1]),\n",
       " array([1]),\n",
       " array([1]),\n",
       " array([1]),\n",
       " array([1]),\n",
       " array([1]),\n",
       " array([1]),\n",
       " array([1]),\n",
       " array([1]),\n",
       " array([1])]"
      ]
     },
     "execution_count": 18,
     "metadata": {},
     "output_type": "execute_result"
    }
   ],
   "source": [
    "res"
   ]
  },
  {
   "cell_type": "markdown",
   "metadata": {},
   "source": [
    "### Let's test it out even more"
   ]
  },
  {
   "cell_type": "code",
   "execution_count": 19,
   "metadata": {},
   "outputs": [],
   "source": [
    "def test_it(text):\n",
    "    x = np.ones((1, 27))\n",
    "    x[:, 1:] = getFrequencyOfText(text).reshape(1, -1)\n",
    "    out = sess.run(predict, feed_dict={ X:x })\n",
    "    return out"
   ]
  },
  {
   "cell_type": "code",
   "execution_count": 20,
   "metadata": {},
   "outputs": [],
   "source": [
    "v = \"The Vigenere cipher (French pronunciation: ​[viʒnɛːʁ]) \\\n",
    "    is a method of encrypting alphabetic text by using a series\\\n",
    "    of interwoven Caesar ciphers based on the letters of a keyword. It \\\n",
    "    is a form of polyalphabetic substitution. \\\n",
    "    Though the cipher is easy to understand and implement, for three \\\n",
    "    centuries it resisted all attempts to break it; this earned it the \\\n",
    "    description le chiffre indéchiffrable (French for 'the indecipherable cipher'). \""
   ]
  },
  {
   "cell_type": "code",
   "execution_count": 21,
   "metadata": {},
   "outputs": [],
   "source": [
    "clean_text = ''.join(re.findall('[A-Za-z ]', v)).upper().strip()"
   ]
  },
  {
   "cell_type": "code",
   "execution_count": 22,
   "metadata": {},
   "outputs": [
    {
     "data": {
      "text/plain": [
       "'THE VIGENERE CIPHER FRENCH PRONUNCIATION VIN     IS A METHOD OF ENCRYPTING ALPHABETIC TEXT BY USING A SERIES    OF INTERWOVEN CAESAR CIPHERS BASED ON THE LETTERS OF A KEYWORD IT     IS A FORM OF POLYALPHABETIC SUBSTITUTION     THOUGH THE CIPHER IS EASY TO UNDERSTAND AND IMPLEMENT FOR THREE     CENTURIES IT RESISTED ALL ATTEMPTS TO BREAK IT THIS EARNED IT THE     DESCRIPTION LE CHIFFRE INDCHIFFRABLE FRENCH FOR THE INDECIPHERABLE CIPHER'"
      ]
     },
     "execution_count": 22,
     "metadata": {},
     "output_type": "execute_result"
    }
   ],
   "source": [
    "clean_text"
   ]
  },
  {
   "cell_type": "code",
   "execution_count": 23,
   "metadata": {},
   "outputs": [],
   "source": [
    "key = \"VIGENERE\"\n",
    "cipher = encrypt.vigenere(key, clean_text)"
   ]
  },
  {
   "cell_type": "code",
   "execution_count": 24,
   "metadata": {},
   "outputs": [
    {
     "data": {
      "text/plain": [
       "array([0])"
      ]
     },
     "execution_count": 24,
     "metadata": {},
     "output_type": "execute_result"
    }
   ],
   "source": [
    "cipher\n",
    "test_it(cipher)"
   ]
  },
  {
   "cell_type": "code",
   "execution_count": 25,
   "metadata": {},
   "outputs": [],
   "source": [
    "s = \"In cryptography, a substitution cipher is a method of encrypting by which units of\\\n",
    "plaintext are replaced with ciphertext, according to a fixed system; the units\\\n",
    "may be single letters (the most common),\\\n",
    "pairs of letters, triplets of letters, mixtures of the above, and so forth.\\\n",
    "The receiver deciphers the text by performing the inverse substitution.\""
   ]
  },
  {
   "cell_type": "code",
   "execution_count": 26,
   "metadata": {},
   "outputs": [],
   "source": [
    "clean_text = ''.join(re.findall('[A-Za-z ]', s)).upper().strip()"
   ]
  },
  {
   "cell_type": "code",
   "execution_count": 27,
   "metadata": {},
   "outputs": [
    {
     "data": {
      "text/plain": [
       "'IN CRYPTOGRAPHY A SUBSTITUTION CIPHER IS A METHOD OF ENCRYPTING BY WHICH UNITS OFPLAINTEXT ARE REPLACED WITH CIPHERTEXT ACCORDING TO A FIXED SYSTEM THE UNITSMAY BE SINGLE LETTERS THE MOST COMMONPAIRS OF LETTERS TRIPLETS OF LETTERS MIXTURES OF THE ABOVE AND SO FORTHTHE RECEIVER DECIPHERS THE TEXT BY PERFORMING THE INVERSE SUBSTITUTION'"
      ]
     },
     "execution_count": 27,
     "metadata": {},
     "output_type": "execute_result"
    }
   ],
   "source": [
    "clean_text"
   ]
  },
  {
   "cell_type": "code",
   "execution_count": 28,
   "metadata": {},
   "outputs": [],
   "source": [
    "key = \"THECOWSGMINFLDABJKPQRUVXYZ\""
   ]
  },
  {
   "cell_type": "code",
   "execution_count": 29,
   "metadata": {},
   "outputs": [
    {
     "data": {
      "text/plain": [
       "array([1])"
      ]
     },
     "execution_count": 29,
     "metadata": {},
     "output_type": "execute_result"
    }
   ],
   "source": [
    "cipher = encrypt.simple_subs(key, clean_text)\n",
    "test_it(cipher)"
   ]
  },
  {
   "cell_type": "code",
   "execution_count": 30,
   "metadata": {},
   "outputs": [],
   "source": [
    "sess.close()"
   ]
  }
 ],
 "metadata": {
  "kernelspec": {
   "display_name": "Python 3",
   "language": "python",
   "name": "python3"
  },
  "language_info": {
   "codemirror_mode": {
    "name": "ipython",
    "version": 3
   },
   "file_extension": ".py",
   "mimetype": "text/x-python",
   "name": "python",
   "nbconvert_exporter": "python",
   "pygments_lexer": "ipython3",
   "version": "3.5.2"
  }
 },
 "nbformat": 4,
 "nbformat_minor": 2
}
