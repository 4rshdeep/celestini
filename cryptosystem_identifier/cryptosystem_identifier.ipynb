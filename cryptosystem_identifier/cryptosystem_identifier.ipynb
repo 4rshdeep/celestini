{
 "cells": [
  {
   "cell_type": "code",
   "execution_count": 1,
   "metadata": {},
   "outputs": [
    {
     "name": "stderr",
     "output_type": "stream",
     "text": [
      "/usr/local/lib/python3.5/dist-packages/h5py/__init__.py:36: FutureWarning: Conversion of the second argument of issubdtype from `float` to `np.floating` is deprecated. In future, it will be treated as `np.float64 == np.dtype(float).type`.\n",
      "  from ._conv import register_converters as _register_converters\n"
     ]
    }
   ],
   "source": [
    "import tensorflow as tf\n",
    "import matplotlib.pyplot as plt\n",
    "import seaborn as sns\n",
    "import numpy as np\n",
    "%matplotlib inline\n",
    "\n",
    "from features import calculateIC, frequency_index"
   ]
  },
  {
   "cell_type": "code",
   "execution_count": 2,
   "metadata": {},
   "outputs": [],
   "source": [
    "TRAIN_DIR = \"./data_gen/data/train/\"\n",
    "TEST_DIR = \"./data_gen/data/test/\""
   ]
  },
  {
   "cell_type": "code",
   "execution_count": 3,
   "metadata": {},
   "outputs": [],
   "source": [
    "plain = open(TRAIN_DIR+ \"plain_text_long.txt\").read().splitlines()\n",
    "ss = open(TRAIN_DIR + \"simple_sub_long.txt\").read().splitlines()\n",
    "vig = open(TRAIN_DIR + \"vig_long.txt\").read().splitlines()"
   ]
  },
  {
   "cell_type": "code",
   "execution_count": 4,
   "metadata": {},
   "outputs": [],
   "source": [
    "test_plain = open(TEST_DIR+ \"plain.txt\").read().splitlines()\n",
    "test_ss = open(TEST_DIR + \"simple_sub.txt\").read().splitlines()\n",
    "test_vig = open(TEST_DIR + \"vig.txt\").read().splitlines()"
   ]
  },
  {
   "cell_type": "code",
   "execution_count": 5,
   "metadata": {},
   "outputs": [],
   "source": [
    "def get_ic_list(l):\n",
    "    ic = []\n",
    "    for i in l:\n",
    "        ic_i = calculateIC(i)\n",
    "        ic += [ic_i]\n",
    "    return ic\n",
    "\n",
    "def get_freq_list(l):\n",
    "    freq = []\n",
    "    for i in l:\n",
    "        freq_i = frequency_index(i)\n",
    "        freq += [freq_i]\n",
    "    return freq\n"
   ]
  },
  {
   "cell_type": "markdown",
   "metadata": {},
   "source": [
    "## Training data"
   ]
  },
  {
   "cell_type": "code",
   "execution_count": 7,
   "metadata": {},
   "outputs": [],
   "source": [
    "freq_ss = get_freq_list(ss)\n",
    "ic_ss = get_ic_list(ss)\n",
    "freq_vig = get_freq_list(vig)\n",
    "ic_vig = get_ic_list(vig)"
   ]
  },
  {
   "cell_type": "markdown",
   "metadata": {},
   "source": [
    "## Test Data"
   ]
  },
  {
   "cell_type": "code",
   "execution_count": 8,
   "metadata": {},
   "outputs": [],
   "source": [
    "test_freq_ss = get_freq_list(test_ss)\n",
    "test_ic_ss = get_ic_list(test_ss)\n",
    "test_freq_vig = get_freq_list(test_vig)\n",
    "test_ic_vig = get_ic_list(test_vig)"
   ]
  },
  {
   "cell_type": "code",
   "execution_count": 9,
   "metadata": {},
   "outputs": [
    {
     "data": {
      "text/plain": [
       "([1.1102230246251565e-16,\n",
       "  0.0,\n",
       "  1.1102230246251565e-16,\n",
       "  2.220446049250313e-16,\n",
       "  1.1102230246251565e-16],\n",
       " [8.326672684688674e-17,\n",
       "  1.6653345369377348e-16,\n",
       "  8.326672684688674e-17,\n",
       "  2.220446049250313e-16,\n",
       "  -5.551115123125783e-17],\n",
       " [0.06247194373784229,\n",
       "  0.06875654646117013,\n",
       "  0.07290372670807453,\n",
       "  0.07553101756000306,\n",
       "  0.0714622641509434],\n",
       " [0.04361813556785875,\n",
       "  0.04309441867424809,\n",
       "  0.04759316770186335,\n",
       "  0.044245073230580474,\n",
       "  0.044182389937106915])"
      ]
     },
     "execution_count": 9,
     "metadata": {},
     "output_type": "execute_result"
    }
   ],
   "source": [
    "freq_ss[:5], freq_vig[:5], ic_ss[:5], ic_vig[:5]"
   ]
  },
  {
   "cell_type": "markdown",
   "metadata": {},
   "source": [
    "plt.figure(figsize=(8,8))\n",
    "plt.plot(ic_ss, freq_ss, 'bo', alpha=0.8)\n",
    "plt.plot(ic_vig, freq_vig, 'r^', alpha=0.8)\n",
    "plt.xlabel(\"IC\")\n",
    "plt.ylabel(\"FREQUENCY\")\n",
    "plt.show()"
   ]
  },
  {
   "cell_type": "code",
   "execution_count": 10,
   "metadata": {},
   "outputs": [],
   "source": [
    "train_vig = np.array([ic_vig, freq_vig], dtype=np.float64).T\n",
    "train_ss = np.array([ic_ss, freq_ss], dtype=np.float64).T"
   ]
  },
  {
   "cell_type": "code",
   "execution_count": 53,
   "metadata": {},
   "outputs": [],
   "source": [
    "test_vig = np.array([test_ic_vig, test_freq_vig]).T\n",
    "test_ss = np.array([test_ic_ss, test_freq_ss]).T"
   ]
  },
  {
   "cell_type": "code",
   "execution_count": 12,
   "metadata": {
    "scrolled": true
   },
   "outputs": [
    {
     "data": {
      "text/plain": [
       "([0.04361813556785875,\n",
       "  0.04309441867424809,\n",
       "  0.04759316770186335,\n",
       "  0.044245073230580474,\n",
       "  0.044182389937106915],\n",
       " array([0.04361814, 0.04309442, 0.04759317, 0.04424507, 0.04418239]))"
      ]
     },
     "execution_count": 12,
     "metadata": {},
     "output_type": "execute_result"
    }
   ],
   "source": [
    "ic_vig[:5], train_vig[:5,0]"
   ]
  },
  {
   "cell_type": "code",
   "execution_count": 57,
   "metadata": {},
   "outputs": [
    {
     "data": {
      "image/png": "[encoded data removed]",
      "text/plain": [
       "<matplotlib.figure.Figure at 0x7fbbb0bf8d68>"
      ]
     },
     "metadata": {},
     "output_type": "display_data"
    }
   ],
   "source": [
    "plt.figure(figsize=(7,7))\n",
    "plt.plot(train_ss[:,0], train_ss[:,1], 'b^', alpha=0.1)\n",
    "plt.plot(train_vig[:,0], train_vig[:,1], 'ro', alpha=0.1)\n",
    "plt.plot(test_ss[:,0], test_ss[:,1], 'go')\n",
    "plt.xlabel(\"IC\")\n",
    "plt.ylabel(\"FREQUENCY\")\n",
    "plt.show()"
   ]
  },
  {
   "cell_type": "markdown",
   "metadata": {},
   "source": [
    "Zero for simple sub and one for vigenere"
   ]
  },
  {
   "cell_type": "code",
   "execution_count": 26,
   "metadata": {},
   "outputs": [
    {
     "data": {
      "text/plain": [
       "(20, 10000)"
      ]
     },
     "execution_count": 26,
     "metadata": {},
     "output_type": "execute_result"
    }
   ],
   "source": [
    "num_train = x_train.shape[0]\n",
    "num_test = x_test.shape[0]\n",
    "num_test, num_train"
   ]
  },
  {
   "cell_type": "code",
   "execution_count": 28,
   "metadata": {},
   "outputs": [],
   "source": [
    "yv = np.ones(int(num_train/2))\n",
    "ys = np.zeros(int(num_train/2))"
   ]
  },
  {
   "cell_type": "code",
   "execution_count": 29,
   "metadata": {},
   "outputs": [],
   "source": [
    "x_train = np.vstack((train_ss, train_vig))\n",
    "y_train = np.hstack((ys, yv)).reshape(-1, 1)"
   ]
  },
  {
   "cell_type": "code",
   "execution_count": 30,
   "metadata": {},
   "outputs": [],
   "source": [
    "x_test = np.vstack((test_ss, test_vig))\n",
    "y_test = np.hstack((np.zeros(50), np.ones(50)))"
   ]
  },
  {
   "cell_type": "raw",
   "metadata": {},
   "source": [
    "X = tf.placeholder(tf.float32, [None, 2])\n",
    "W = tf.get_variable(\"W\", shape=[2, 1],\n",
    "           initializer=tf.contrib.layers.xavier_initializer())\n",
    "b = tf.Variable(tf.zeros([1]))\n",
    "init = tf.global_variables_initializer()"
   ]
  },
  {
   "cell_type": "raw",
   "metadata": {},
   "source": [
    "Y = tf.nn.softmax(tf.matmul(X, W) + b)"
   ]
  },
  {
   "cell_type": "raw",
   "metadata": {},
   "source": [
    "Y_ = tf.placeholder(tf.float32, [None, 1])"
   ]
  },
  {
   "cell_type": "raw",
   "metadata": {},
   "source": [
    "cross_entropy = -tf.reduce_sum(Y_ * tf.log(Y))"
   ]
  },
  {
   "cell_type": "raw",
   "metadata": {},
   "source": [
    "freq_ss[:5], freq_vig[:5], ic_ss[:5], ic_vig[:5]"
   ]
  },
  {
   "cell_type": "raw",
   "metadata": {},
   "source": [
    "is_correct = tf.equal(tf.arg_max(Y_, 1), tf.arg_max(Y, 1))\n",
    "accuracy = tf.reduce_mean(tf.cast(is_correct, tf.float32))"
   ]
  },
  {
   "cell_type": "raw",
   "metadata": {},
   "source": [
    "optimizer = tf.train.AdamOptimizer()\n",
    "train_step = optimizer.minimize(cross_entropy)"
   ]
  },
  {
   "cell_type": "raw",
   "metadata": {},
   "source": [
    "sess = tf.Session()\n",
    "sess.run(init)"
   ]
  },
  {
   "cell_type": "raw",
   "metadata": {},
   "source": [
    "x_train.shape"
   ]
  },
  {
   "cell_type": "raw",
   "metadata": {},
   "source": [
    "y_train.shape"
   ]
  },
  {
   "cell_type": "raw",
   "metadata": {},
   "source": [
    "for step in range(200):\n",
    "    _, l, pred = sess.run([train_step, cross_entropy, Y], feed_dict={X : x_train, Y_ : y_train})\n",
    "    \n",
    "    if(step%5==0):\n",
    "        print('Loss after {} -- {}'.format(step, l))\n",
    " "
   ]
  },
  {
   "cell_type": "code",
   "execution_count": 41,
   "metadata": {},
   "outputs": [
    {
     "name": "stderr",
     "output_type": "stream",
     "text": [
      "Using TensorFlow backend.\n"
     ]
    }
   ],
   "source": [
    "from keras.models import Sequential\n",
    "from keras.layers import Dense"
   ]
  },
  {
   "cell_type": "code",
   "execution_count": 44,
   "metadata": {},
   "outputs": [],
   "source": [
    "model = Sequential()\n",
    "model.add(Dense(1, input_shape=(2,)))"
   ]
  },
  {
   "cell_type": "code",
   "execution_count": 45,
   "metadata": {
    "scrolled": true
   },
   "outputs": [
    {
     "name": "stdout",
     "output_type": "stream",
     "text": [
      "Epoch 1/120\n",
      "0s - loss: 1.1947 - acc: 0.5000\n",
      "Epoch 2/120\n",
      "0s - loss: 0.9054 - acc: 0.5000\n",
      "Epoch 3/120\n",
      "0s - loss: 0.8066 - acc: 0.5000\n",
      "Epoch 4/120\n",
      "0s - loss: 0.7591 - acc: 0.5000\n",
      "Epoch 5/120\n",
      "0s - loss: 0.7355 - acc: 0.5000\n",
      "Epoch 6/120\n",
      "0s - loss: 0.7237 - acc: 0.4999\n",
      "Epoch 7/120\n",
      "0s - loss: 0.7181 - acc: 0.4997\n",
      "Epoch 8/120\n",
      "0s - loss: 0.7153 - acc: 0.4918\n",
      "Epoch 9/120\n",
      "0s - loss: 0.7135 - acc: 0.4423\n",
      "Epoch 10/120\n",
      "0s - loss: 0.7120 - acc: 0.2387\n",
      "Epoch 11/120\n",
      "0s - loss: 0.7105 - acc: 0.2632\n",
      "Epoch 12/120\n",
      "0s - loss: 0.7090 - acc: 0.1312\n",
      "Epoch 13/120\n",
      "0s - loss: 0.7073 - acc: 0.2437\n",
      "Epoch 14/120\n",
      "0s - loss: 0.7056 - acc: 0.2738\n",
      "Epoch 15/120\n",
      "0s - loss: 0.7037 - acc: 0.2394\n",
      "Epoch 16/120\n",
      "0s - loss: 0.7017 - acc: 0.2483\n",
      "Epoch 17/120\n",
      "0s - loss: 0.6996 - acc: 0.4499\n",
      "Epoch 18/120\n",
      "0s - loss: 0.6974 - acc: 0.2821\n",
      "Epoch 19/120\n",
      "0s - loss: 0.6952 - acc: 0.4991\n",
      "Epoch 20/120\n",
      "0s - loss: 0.6928 - acc: 0.4868\n",
      "Epoch 21/120\n",
      "0s - loss: 0.6904 - acc: 0.6398\n",
      "Epoch 22/120\n",
      "0s - loss: 0.6879 - acc: 0.5224\n",
      "Epoch 23/120\n",
      "0s - loss: 0.6854 - acc: 0.6428\n",
      "Epoch 24/120\n",
      "0s - loss: 0.6829 - acc: 0.8193\n",
      "Epoch 25/120\n",
      "0s - loss: 0.6802 - acc: 0.9218\n",
      "Epoch 26/120\n",
      "0s - loss: 0.6776 - acc: 0.9475\n",
      "Epoch 27/120\n",
      "0s - loss: 0.6749 - acc: 0.8368\n",
      "Epoch 28/120\n",
      "0s - loss: 0.6724 - acc: 0.9582\n",
      "Epoch 29/120\n",
      "0s - loss: 0.6696 - acc: 0.9771\n",
      "Epoch 30/120\n",
      "0s - loss: 0.6669 - acc: 0.9865\n",
      "Epoch 31/120\n",
      "0s - loss: 0.6643 - acc: 0.9594\n",
      "Epoch 32/120\n",
      "0s - loss: 0.6616 - acc: 0.9690\n",
      "Epoch 33/120\n",
      "0s - loss: 0.6589 - acc: 0.9787\n",
      "Epoch 34/120\n",
      "0s - loss: 0.6563 - acc: 0.9884\n",
      "Epoch 35/120\n",
      "0s - loss: 0.6536 - acc: 0.9830\n",
      "Epoch 36/120\n",
      "0s - loss: 0.6510 - acc: 0.9871\n",
      "Epoch 37/120\n",
      "0s - loss: 0.6482 - acc: 0.9873\n",
      "Epoch 38/120\n",
      "0s - loss: 0.6456 - acc: 0.9879\n",
      "Epoch 39/120\n",
      "0s - loss: 0.6430 - acc: 0.9862\n",
      "Epoch 40/120\n",
      "0s - loss: 0.6404 - acc: 0.9895\n",
      "Epoch 41/120\n",
      "0s - loss: 0.6377 - acc: 0.9837\n",
      "Epoch 42/120\n",
      "0s - loss: 0.6351 - acc: 0.9865\n",
      "Epoch 43/120\n",
      "0s - loss: 0.6325 - acc: 0.9889\n",
      "Epoch 44/120\n",
      "0s - loss: 0.6299 - acc: 0.9892\n",
      "Epoch 45/120\n",
      "0s - loss: 0.6272 - acc: 0.9884\n",
      "Epoch 46/120\n",
      "0s - loss: 0.6246 - acc: 0.9894\n",
      "Epoch 47/120\n",
      "0s - loss: 0.6220 - acc: 0.9893\n",
      "Epoch 48/120\n",
      "0s - loss: 0.6194 - acc: 0.9893\n",
      "Epoch 49/120\n",
      "0s - loss: 0.6169 - acc: 0.9896\n",
      "Epoch 50/120\n",
      "0s - loss: 0.6143 - acc: 0.9879\n",
      "Epoch 51/120\n",
      "0s - loss: 0.6116 - acc: 0.9890\n",
      "Epoch 52/120\n",
      "0s - loss: 0.6091 - acc: 0.9867\n",
      "Epoch 53/120\n",
      "0s - loss: 0.6065 - acc: 0.9842\n",
      "Epoch 54/120\n",
      "0s - loss: 0.6040 - acc: 0.9894\n",
      "Epoch 55/120\n",
      "0s - loss: 0.6014 - acc: 0.9902\n",
      "Epoch 56/120\n",
      "0s - loss: 0.5988 - acc: 0.9894\n",
      "Epoch 57/120\n",
      "0s - loss: 0.5963 - acc: 0.9898\n",
      "Epoch 58/120\n",
      "0s - loss: 0.5938 - acc: 0.9905\n",
      "Epoch 59/120\n",
      "0s - loss: 0.5913 - acc: 0.9889\n",
      "Epoch 60/120\n",
      "0s - loss: 0.5888 - acc: 0.9897\n",
      "Epoch 61/120\n",
      "0s - loss: 0.5864 - acc: 0.9887\n",
      "Epoch 62/120\n",
      "0s - loss: 0.5839 - acc: 0.9893\n",
      "Epoch 63/120\n",
      "0s - loss: 0.5814 - acc: 0.9885\n",
      "Epoch 64/120\n",
      "0s - loss: 0.5789 - acc: 0.9902\n",
      "Epoch 65/120\n",
      "0s - loss: 0.5765 - acc: 0.9892\n",
      "Epoch 66/120\n",
      "0s - loss: 0.5741 - acc: 0.9900\n",
      "Epoch 67/120\n",
      "0s - loss: 0.5717 - acc: 0.9896\n",
      "Epoch 68/120\n",
      "0s - loss: 0.5693 - acc: 0.9899\n",
      "Epoch 69/120\n",
      "0s - loss: 0.5669 - acc: 0.9901\n",
      "Epoch 70/120\n",
      "0s - loss: 0.5644 - acc: 0.9898\n",
      "Epoch 71/120\n",
      "0s - loss: 0.5620 - acc: 0.9900\n",
      "Epoch 72/120\n",
      "0s - loss: 0.5597 - acc: 0.9899\n",
      "Epoch 73/120\n",
      "0s - loss: 0.5573 - acc: 0.9898\n",
      "Epoch 74/120\n",
      "0s - loss: 0.5549 - acc: 0.9897\n",
      "Epoch 75/120\n",
      "0s - loss: 0.5526 - acc: 0.9894\n",
      "Epoch 76/120\n",
      "0s - loss: 0.5503 - acc: 0.9895\n",
      "Epoch 77/120\n",
      "0s - loss: 0.5479 - acc: 0.9902\n",
      "Epoch 78/120\n",
      "0s - loss: 0.5456 - acc: 0.9895\n",
      "Epoch 79/120\n",
      "0s - loss: 0.5432 - acc: 0.9896\n",
      "Epoch 80/120\n",
      "0s - loss: 0.5408 - acc: 0.9902\n",
      "Epoch 81/120\n",
      "0s - loss: 0.5385 - acc: 0.9902\n",
      "Epoch 82/120\n",
      "0s - loss: 0.5362 - acc: 0.9901\n",
      "Epoch 83/120\n",
      "0s - loss: 0.5339 - acc: 0.9897\n",
      "Epoch 84/120\n",
      "0s - loss: 0.5315 - acc: 0.9900\n",
      "Epoch 85/120\n",
      "0s - loss: 0.5293 - acc: 0.9893\n",
      "Epoch 86/120\n",
      "0s - loss: 0.5270 - acc: 0.9903\n",
      "Epoch 87/120\n",
      "0s - loss: 0.5247 - acc: 0.9903\n",
      "Epoch 88/120\n",
      "0s - loss: 0.5224 - acc: 0.9900\n",
      "Epoch 89/120\n",
      "0s - loss: 0.5201 - acc: 0.9905\n",
      "Epoch 90/120\n",
      "0s - loss: 0.5178 - acc: 0.9898\n",
      "Epoch 91/120\n",
      "0s - loss: 0.5155 - acc: 0.9898\n",
      "Epoch 92/120\n",
      "0s - loss: 0.5133 - acc: 0.9901\n",
      "Epoch 93/120\n",
      "0s - loss: 0.5110 - acc: 0.9899\n",
      "Epoch 94/120\n",
      "0s - loss: 0.5087 - acc: 0.9898\n",
      "Epoch 95/120\n",
      "0s - loss: 0.5065 - acc: 0.9903\n",
      "Epoch 96/120\n",
      "0s - loss: 0.5043 - acc: 0.9904\n",
      "Epoch 97/120\n",
      "0s - loss: 0.5020 - acc: 0.9896\n",
      "Epoch 98/120\n",
      "0s - loss: 0.4998 - acc: 0.9897\n",
      "Epoch 99/120\n",
      "0s - loss: 0.4976 - acc: 0.9898\n",
      "Epoch 100/120\n",
      "0s - loss: 0.4954 - acc: 0.9897\n",
      "Epoch 101/120\n",
      "0s - loss: 0.4931 - acc: 0.9897\n",
      "Epoch 102/120\n",
      "0s - loss: 0.4910 - acc: 0.9894\n",
      "Epoch 103/120\n",
      "0s - loss: 0.4888 - acc: 0.9901\n",
      "Epoch 104/120\n",
      "0s - loss: 0.4866 - acc: 0.9902\n",
      "Epoch 105/120\n",
      "0s - loss: 0.4844 - acc: 0.9900\n",
      "Epoch 106/120\n",
      "0s - loss: 0.4823 - acc: 0.9899\n",
      "Epoch 107/120\n",
      "0s - loss: 0.4801 - acc: 0.9893\n",
      "Epoch 108/120\n",
      "0s - loss: 0.4780 - acc: 0.9901\n",
      "Epoch 109/120\n",
      "0s - loss: 0.4758 - acc: 0.9905\n",
      "Epoch 110/120\n",
      "0s - loss: 0.4735 - acc: 0.9905\n",
      "Epoch 111/120\n",
      "0s - loss: 0.4715 - acc: 0.9896\n",
      "Epoch 112/120\n",
      "0s - loss: 0.4693 - acc: 0.9897\n",
      "Epoch 113/120\n",
      "0s - loss: 0.4672 - acc: 0.9906\n",
      "Epoch 114/120\n",
      "0s - loss: 0.4650 - acc: 0.9903\n",
      "Epoch 115/120\n",
      "0s - loss: 0.4629 - acc: 0.9901\n",
      "Epoch 116/120\n",
      "0s - loss: 0.4607 - acc: 0.9905\n",
      "Epoch 117/120\n",
      "0s - loss: 0.4586 - acc: 0.9903\n",
      "Epoch 118/120\n",
      "0s - loss: 0.4565 - acc: 0.9893\n",
      "Epoch 119/120\n",
      "0s - loss: 0.4543 - acc: 0.9908\n",
      "Epoch 120/120\n",
      "0s - loss: 0.4523 - acc: 0.9897\n"
     ]
    },
    {
     "data": {
      "text/plain": [
       "<keras.callbacks.History at 0x7fbbb42f2828>"
      ]
     },
     "execution_count": 45,
     "metadata": {},
     "output_type": "execute_result"
    }
   ],
   "source": [
    "model.compile(optimizer='adam', loss='binary_crossentropy', metrics=['accuracy'])\n",
    "model.fit(x_train, y_train, epochs=120, batch_size=50,  verbose=2)"
   ]
  },
  {
   "cell_type": "code",
   "execution_count": 51,
   "metadata": {},
   "outputs": [
    {
     "data": {
      "text/plain": [
       "array([[0.45376754],\n",
       "       [0.37380475],\n",
       "       [0.3271978 ],\n",
       "       [0.2867465 ],\n",
       "       [0.41985208],\n",
       "       [0.4317348 ],\n",
       "       [0.23807847],\n",
       "       [0.38900346],\n",
       "       [0.45616335],\n",
       "       [0.24141955],\n",
       "       [0.65788305],\n",
       "       [0.5873896 ],\n",
       "       [0.639738  ],\n",
       "       [0.55270964],\n",
       "       [0.64832646],\n",
       "       [0.66358584],\n",
       "       [0.5947546 ],\n",
       "       [0.63746035],\n",
       "       [0.67551595],\n",
       "       [0.6567801 ]], dtype=float32)"
      ]
     },
     "execution_count": 51,
     "metadata": {},
     "output_type": "execute_result"
    }
   ],
   "source": [
    "model.predict(x_test)"
   ]
  },
  {
   "cell_type": "raw",
   "metadata": {},
   "source": [
    "in test set earlier values are simple cipher so they should have been predicted 0 and later as 1\n",
    "So there is something wrong"
   ]
  }
 ],
 "metadata": {
  "kernelspec": {
   "display_name": "Python 3",
   "language": "python",
   "name": "python3"
  },
  "language_info": {
   "codemirror_mode": {
    "name": "ipython",
    "version": 3
   },
   "file_extension": ".py",
   "mimetype": "text/x-python",
   "name": "python",
   "nbconvert_exporter": "python",
   "pygments_lexer": "ipython3",
   "version": "3.5.2"
  }
 },
 "nbformat": 4,
 "nbformat_minor": 2
}
